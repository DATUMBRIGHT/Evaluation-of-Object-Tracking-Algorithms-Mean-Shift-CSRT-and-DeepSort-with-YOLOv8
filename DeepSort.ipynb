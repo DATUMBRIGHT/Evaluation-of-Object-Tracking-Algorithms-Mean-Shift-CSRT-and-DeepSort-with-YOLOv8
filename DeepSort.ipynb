{
 "cells": [
  {
   "cell_type": "code",
   "execution_count": 7,
   "id": "80b08c5e",
   "metadata": {},
   "outputs": [
    {
     "ename": "ModuleNotFoundError",
     "evalue": "No module named 'imutils'",
     "output_type": "error",
     "traceback": [
      "\u001b[0;31m---------------------------------------------------------------------------\u001b[0m",
      "\u001b[0;31mModuleNotFoundError\u001b[0m                       Traceback (most recent call last)",
      "Cell \u001b[0;32mIn[7], line 6\u001b[0m\n\u001b[1;32m      4\u001b[0m \u001b[38;5;66;03m#import imutils  # Utility functions for image processing\u001b[39;00m\n\u001b[1;32m      5\u001b[0m \u001b[38;5;28;01mimport\u001b[39;00m \u001b[38;5;21;01mtime\u001b[39;00m  \u001b[38;5;66;03m# For time-related functions\u001b[39;00m\n\u001b[0;32m----> 6\u001b[0m \u001b[38;5;28;01mfrom\u001b[39;00m \u001b[38;5;21;01mimutils\u001b[39;00m\u001b[38;5;21;01m.\u001b[39;00m\u001b[38;5;21;01mvideo\u001b[39;00m \u001b[38;5;28;01mimport\u001b[39;00m VideoStream  \u001b[38;5;66;03m# Module for streaming video\u001b[39;00m\n\u001b[1;32m      7\u001b[0m \u001b[38;5;28;01mfrom\u001b[39;00m \u001b[38;5;21;01mimutils\u001b[39;00m\u001b[38;5;21;01m.\u001b[39;00m\u001b[38;5;21;01mvideo\u001b[39;00m \u001b[38;5;28;01mimport\u001b[39;00m FPS\n",
      "\u001b[0;31mModuleNotFoundError\u001b[0m: No module named 'imutils'"
     ]
    }
   ],
   "source": [
    "# Importing necessary libraries for video processing and object tracking\n",
    "import cv2  # OpenCV library for computer vision\n",
    "import argparse\n",
    "#import imutils  # Utility functions for image processing\n",
    "import time  # For time-related functions\n",
    "from imutils.video import VideoStream  # Module for streaming video\n",
    "from imutils.video import FPS  # Module for calculating frames per second"
   ]
  },
  {
   "cell_type": "code",
   "execution_count": 5,
   "id": "fdde3c77",
   "metadata": {},
   "outputs": [
    {
     "ename": "AttributeError",
     "evalue": "module 'cv2' has no attribute 'TrackerCSRT_create'",
     "output_type": "error",
     "traceback": [
      "\u001b[0;31m---------------------------------------------------------------------------\u001b[0m",
      "\u001b[0;31mAttributeError\u001b[0m                            Traceback (most recent call last)",
      "Cell \u001b[0;32mIn[5], line 3\u001b[0m\n\u001b[1;32m      1\u001b[0m \u001b[38;5;66;03m# Dictionary with different tracking algorithms\u001b[39;00m\n\u001b[1;32m      2\u001b[0m tracking_methods \u001b[38;5;241m=\u001b[39m {\n\u001b[0;32m----> 3\u001b[0m     \u001b[38;5;124m'\u001b[39m\u001b[38;5;124mcsrt\u001b[39m\u001b[38;5;124m'\u001b[39m: cv2\u001b[38;5;241m.\u001b[39mTrackerCSRT_create,  \u001b[38;5;66;03m# CSRT for robust object tracking\u001b[39;00m\n\u001b[1;32m      4\u001b[0m     \u001b[38;5;124m'\u001b[39m\u001b[38;5;124mkcf\u001b[39m\u001b[38;5;124m'\u001b[39m: cv2\u001b[38;5;241m.\u001b[39mTrackerKCF_create,  \u001b[38;5;66;03m# KCF for fast object tracking\u001b[39;00m\n\u001b[1;32m      5\u001b[0m }\n",
      "\u001b[0;31mAttributeError\u001b[0m: module 'cv2' has no attribute 'TrackerCSRT_create'"
     ]
    }
   ],
   "source": [
    "# Dictionary with different tracking algorithms\n",
    "tracking_methods = {\n",
    "    'csrt': cv2.TrackerCSRT_create,  # CSRT for robust object tracking\n",
    "    'kcf': cv2.TrackerKCF_create,  # KCF for fast object tracking\n",
    "}"
   ]
  },
  {
   "cell_type": "code",
   "execution_count": 3,
   "id": "d917ab57",
   "metadata": {},
   "outputs": [],
   "source": [
    "# Create a tracker instance using KCF\n",
    "tracker_instance = tracking_methods['csrt']()\n",
    "tracker_instance = 'csrt'"
   ]
  },
  {
   "cell_type": "code",
   "execution_count": 3,
   "id": "9469e2a8",
   "metadata": {},
   "outputs": [
    {
     "name": "stdout",
     "output_type": "stream",
     "text": [
      "Requirement already satisfied: imutils in /Library/Frameworks/Python.framework/Versions/3.12/lib/python3.12/site-packages (0.5.4)\r\n"
     ]
    }
   ],
   "source": [
    "!pip install imutils"
   ]
  },
  {
   "cell_type": "code",
   "execution_count": 1,
   "id": "07c52196",
   "metadata": {},
   "outputs": [
    {
     "ename": "NameError",
     "evalue": "name 'cv2' is not defined",
     "output_type": "error",
     "traceback": [
      "\u001b[0;31m---------------------------------------------------------------------------\u001b[0m",
      "\u001b[0;31mNameError\u001b[0m                                 Traceback (most recent call last)",
      "Cell \u001b[0;32mIn[1], line 6\u001b[0m\n\u001b[1;32m      1\u001b[0m \u001b[38;5;66;03m# Load a video file from a specified path\u001b[39;00m\n\u001b[1;32m      2\u001b[0m \n\u001b[1;32m      3\u001b[0m \u001b[38;5;66;03m#video_capture  = cv2.VideoCapture(r\"C:\\Users\\antv7\\Downloads\\vtest.avi\") # Static Camera / Moving Object\u001b[39;00m\n\u001b[1;32m      4\u001b[0m \u001b[38;5;66;03m#video_capture  = cv2.VideoCapture(r\"C:\\Users\\antv7\\Downloads\\Both Moving.MOV\") # Camera and Object Moving\u001b[39;00m\n\u001b[1;32m      5\u001b[0m \u001b[38;5;66;03m#video_capture  = cv2.VideoCapture(r\"C:\\Users\\antv7\\Downloads\\Camera Moving.MOV\") # Camera Moving / Static Object\u001b[39;00m\n\u001b[0;32m----> 6\u001b[0m video_capture  \u001b[38;5;241m=\u001b[39m cv2\u001b[38;5;241m.\u001b[39mVideoCapture(\u001b[38;5;124m'\u001b[39m\u001b[38;5;124m/Users/brighttenkorangofori/Downloads/movingg_still.mp4\u001b[39m\u001b[38;5;124m'\u001b[39m)\n",
      "\u001b[0;31mNameError\u001b[0m: name 'cv2' is not defined"
     ]
    }
   ],
   "source": [
    "# Load a video file from a specified path\n",
    "\n",
    "#video_capture  = cv2.VideoCapture(r\"C:\\Users\\antv7\\Downloads\\vtest.avi\") # Static Camera / Moving Object\n",
    "#video_capture  = cv2.VideoCapture(r\"C:\\Users\\antv7\\Downloads\\Both Moving.MOV\") # Camera and Object Moving\n",
    "#video_capture  = cv2.VideoCapture(r\"C:\\Users\\antv7\\Downloads\\Camera Moving.MOV\") # Camera Moving / Static Object\n",
    "video_capture  = cv2.VideoCapture('/Users/brighttenkorangofori/Downloads/movingg_still.mp4') # Varying Object Velocity"
   ]
  },
  {
   "cell_type": "code",
   "execution_count": 5,
   "id": "b5b64668",
   "metadata": {},
   "outputs": [],
   "source": [
    "# Read the first frame and resize it\n",
    "read_success, initial_frame = video_capture.read()  # Read the first frame\n",
    "initial_frame = imutils.resize(initial_frame, width=600)  # Resize the frame to a consistent width"
   ]
  },
  {
   "cell_type": "code",
   "execution_count": 6,
   "id": "8cf9b749",
   "metadata": {},
   "outputs": [],
   "source": [
    "# Display the first frame and select a region of interest for tracking\n",
    "cv2.imshow('Initial Frame', initial_frame)\n",
    "bounding_box = cv2.selectROI('Initial Frame', initial_frame)"
   ]
  },
  {
   "cell_type": "code",
   "execution_count": 7,
   "id": "49e889a8",
   "metadata": {},
   "outputs": [],
   "source": [
    "# Initialize the tracker with the first frame and the selected bounding box\n",
    "tracker_instance.init(initial_frame, bounding_box)"
   ]
  },
  {
   "cell_type": "code",
   "execution_count": 8,
   "id": "32234c50",
   "metadata": {},
   "outputs": [],
   "source": [
    "# Loop to process subsequent frames\n",
    "while True:\n",
    "    read_success, current_frame = video_capture.read()  # Read the next frame\n",
    "    if not read_success:\n",
    "        break\n",
    "\n",
    "    # Resize the frame for consistency\n",
    "    current_frame = imutils.resize(current_frame, width=600)\n",
    "\n",
    "    # Update the tracker with the current frame\n",
    "    tracking_success, bbox = tracker_instance.update(current_frame)\n",
    "\n",
    "    # If tracking is successful, draw a rectangle around the tracked object\n",
    "    if tracking_success:\n",
    "        (x, y, w, h) = [int(coord) for coord in bbox]\n",
    "        cv2.rectangle(current_frame, (x, y), (x + w, y + h), (100, 255, 0), 2)\n",
    "\n",
    "    # Display the current frame\n",
    "    cv2.imshow('Tracking Frame', current_frame)\n",
    "\n",
    "    # Break the loop if 'q' is pressed\n",
    "    key_press = cv2.waitKey(100) & 0xFF\n",
    "    if key_press == ord('q'):\n",
    "        break\n",
    "\n",
    "# Release the video capture and close any OpenCV windows\n",
    "video_capture.release()\n",
    "cv2.destroyAllWindows()"
   ]
  }
 ],
 "metadata": {
  "kernelspec": {
   "display_name": "Python 3 (ipykernel)",
   "language": "python",
   "name": "python3"
  },
  "language_info": {
   "codemirror_mode": {
    "name": "ipython",
    "version": 3
   },
   "file_extension": ".py",
   "mimetype": "text/x-python",
   "name": "python",
   "nbconvert_exporter": "python",
   "pygments_lexer": "ipython3",
   "version": "3.11.4"
  }
 },
 "nbformat": 4,
 "nbformat_minor": 5
}
